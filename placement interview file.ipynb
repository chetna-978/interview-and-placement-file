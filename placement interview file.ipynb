{
 "cells": [
  {
   "cell_type": "markdown",
   "id": "90cc7bcf",
   "metadata": {},
   "source": [
    "dl assessment"
   ]
  },
  {
   "cell_type": "markdown",
   "id": "86a25342",
   "metadata": {},
   "source": [
    "Q3:https://github.com/chetna-978/Website-data/blob/b29d38a5df25a05d10a586728c2b99e0de8b9696/question%203.ipynb\n",
    "https://github.com/chetna-978/Website-data/blob/b29d38a5df25a05d10a586728c2b99e0de8b9696/question3(1).ipynb"
   ]
  },
  {
   "cell_type": "markdown",
   "id": "89cdc926",
   "metadata": {},
   "source": [
    "Q2:https://github.com/chetna-978/Website-data/blob/b29d38a5df25a05d10a586728c2b99e0de8b9696/question2.ipynb"
   ]
  },
  {
   "cell_type": "markdown",
   "id": "68d0bee2",
   "metadata": {},
   "source": [
    "python assessment:https://github.com/chetna-978/pythonassessment.git"
   ]
  },
  {
   "cell_type": "markdown",
   "id": "22150698",
   "metadata": {},
   "source": [
    "stastics:https://github.com/chetna-978/statistics.git"
   ]
  },
  {
   "cell_type": "markdown",
   "id": "b8e0ec4c",
   "metadata": {},
   "source": [
    "ml assessment:https://github.com/chetna-978/mlassessment.git"
   ]
  },
  {
   "cell_type": "code",
   "execution_count": null,
   "id": "fe3294da",
   "metadata": {},
   "outputs": [],
   "source": []
  }
 ],
 "metadata": {
  "kernelspec": {
   "display_name": "Python 3 (ipykernel)",
   "language": "python",
   "name": "python3"
  },
  "language_info": {
   "codemirror_mode": {
    "name": "ipython",
    "version": 3
   },
   "file_extension": ".py",
   "mimetype": "text/x-python",
   "name": "python",
   "nbconvert_exporter": "python",
   "pygments_lexer": "ipython3",
   "version": "3.9.12"
  }
 },
 "nbformat": 4,
 "nbformat_minor": 5
}
